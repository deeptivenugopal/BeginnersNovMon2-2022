{
  "nbformat": 4,
  "nbformat_minor": 0,
  "metadata": {
    "colab": {
      "provenance": [],
      "authorship_tag": "ABX9TyOuhZAZ81scp5byMEgDj6S1",
      "include_colab_link": true
    },
    "kernelspec": {
      "name": "python3",
      "display_name": "Python 3"
    },
    "language_info": {
      "name": "python"
    }
  },
  "cells": [
    {
      "cell_type": "markdown",
      "metadata": {
        "id": "view-in-github",
        "colab_type": "text"
      },
      "source": [
        "<a href=\"https://colab.research.google.com/github/scaleracademy/BeginnersNovMon2-2022/blob/main/Problemsolving2.ipynb\" target=\"_parent\"><img src=\"https://colab.research.google.com/assets/colab-badge.svg\" alt=\"Open In Colab\"/></a>"
      ]
    },
    {
      "cell_type": "code",
      "source": [],
      "metadata": {
        "id": "vkm4WQkSvTit"
      },
      "execution_count": null,
      "outputs": []
    },
    {
      "cell_type": "code",
      "source": [],
      "metadata": {
        "id": "x7RGJT2WvTfv"
      },
      "execution_count": null,
      "outputs": []
    },
    {
      "cell_type": "code",
      "source": [
        "def merge(A,B,arr):\n",
        "  i,j,k = 0,0,0\n",
        "  m = len(A)\n",
        "  n = len(B)\n",
        "  while i<m and j<n:\n",
        "    if A[i]<B[j]:\n",
        "      arr[k] = A[i]\n",
        "      i=i+1\n",
        "    else:\n",
        "      arr[k] = B[j]\n",
        "      j=j+1\n",
        "    k=k+1  \n",
        "  while i<m:\n",
        "    arr[k] = A[i]\n",
        "    i=i+1\n",
        "    k=k+1\n",
        "  while j<n:\n",
        "    arr[k] = B[j]\n",
        "    j = j+1\n",
        "    k=k+1\n",
        "  return arr "
      ],
      "metadata": {
        "id": "_kskpyoKsEMo"
      },
      "execution_count": 15,
      "outputs": []
    },
    {
      "cell_type": "code",
      "source": [
        "def mergeSort(arr):\n",
        "  if len(arr) > 1:\n",
        "\n",
        "        mid = len(arr)//2\n",
        "\n",
        "        # Dividing the array elements\n",
        "        L = arr[:mid]\n",
        "\n",
        "        # into 2 halves\n",
        "        R = arr[mid:]\n",
        "\n",
        "        # Sorting the first half\n",
        "        mergeSort(L)\n",
        "\n",
        "        # Sorting the second half\n",
        "        mergeSort(R)\n",
        "\n",
        "        merge(L,R,arr)"
      ],
      "metadata": {
        "id": "QB05eIjzsEJ7"
      },
      "execution_count": 16,
      "outputs": []
    },
    {
      "cell_type": "code",
      "source": [
        "arr = [12, 11, 13, 5, 6, 7]\n",
        "print(\"Given array is\", end=\"\\n\")\n",
        "print(arr)\n",
        "mergeSort(arr)\n",
        "print(\"Sorted array is: \", end=\"\\n\")\n",
        "print(arr)"
      ],
      "metadata": {
        "colab": {
          "base_uri": "https://localhost:8080/"
        },
        "id": "b2dfehNMsEHP",
        "outputId": "cc59d988-73df-4b9c-ba08-bd84ee720fd7"
      },
      "execution_count": 17,
      "outputs": [
        {
          "output_type": "stream",
          "name": "stdout",
          "text": [
            "Given array is\n",
            "[12, 11, 13, 5, 6, 7]\n",
            "Sorted array is: \n",
            "[5, 6, 7, 11, 12, 13]\n"
          ]
        }
      ]
    },
    {
      "cell_type": "code",
      "source": [],
      "metadata": {
        "id": "B4IZ8VpssEEW"
      },
      "execution_count": null,
      "outputs": []
    },
    {
      "cell_type": "code",
      "source": [],
      "metadata": {
        "id": "hcTTtV9GsDy7"
      },
      "execution_count": null,
      "outputs": []
    },
    {
      "cell_type": "markdown",
      "source": [
        "#pythontutor visulaization for mergesort"
      ],
      "metadata": {
        "id": "ckahaphrQd6K"
      }
    },
    {
      "cell_type": "code",
      "source": [
        "# Python program for implementation of MergeSort\n",
        "def mergeSort(arr):\n",
        "    if len(arr) > 1:\n",
        "  \n",
        "         # Finding the mid of the array\n",
        "        mid = len(arr)//2\n",
        "  \n",
        "        # Dividing the array elements\n",
        "        L = arr[:mid]\n",
        "  \n",
        "        # into 2 halves\n",
        "        R = arr[mid:]\n",
        "  \n",
        "        # Sorting the first half\n",
        "        mergeSort(L)\n",
        "  \n",
        "        # Sorting the second half\n",
        "        mergeSort(R)\n",
        "  \n",
        "        i = j = k = 0\n",
        "  \n",
        "        # Copy data to temp arrays L[] and R[]\n",
        "        while i < len(L) and j < len(R):\n",
        "            if L[i] <= R[j]:\n",
        "                arr[k] = L[i]\n",
        "                i += 1\n",
        "            else:\n",
        "                arr[k] = R[j]\n",
        "                j += 1\n",
        "            k += 1\n",
        "  \n",
        "        # Checking if any element was left\n",
        "        while i < len(L):\n",
        "            arr[k] = L[i]\n",
        "            i += 1\n",
        "            k += 1\n",
        "  \n",
        "        while j < len(R):\n",
        "            arr[k] = R[j]\n",
        "            j += 1\n",
        "            k += 1\n",
        "  \n",
        "# Code to print the list\n",
        "arr = [7,6,5,4]\n",
        "print(\"Given array is\", end=\"\\n\")\n",
        "print(arr)\n",
        "mergeSort(arr)\n",
        "print(\"Sorted array is: \", end=\"\\n\")\n",
        "print(arr)"
      ],
      "metadata": {
        "id": "vWg5M_KeuuxA"
      },
      "execution_count": null,
      "outputs": []
    },
    {
      "cell_type": "markdown",
      "source": [
        "\n",
        "# Find Value Combinatorics\n",
        "```\n",
        "\n",
        "Problem Description\n",
        "Given the value of nPr and nCr for a certain n and r, find the value of r.\n",
        "Note: In case no value of r exists return -1.\n",
        "\n",
        "Input Format\n",
        "Value for permutation\n",
        "Value for combination\n",
        "\n",
        "\n",
        "Output Format\n",
        "Value of r\n",
        "\n",
        "\n",
        "Example Input\n",
        "990\n",
        "165\n",
        "\n",
        "\n",
        "Example Output\n",
        "3\n",
        "\n",
        "```\n",
        "\n"
      ],
      "metadata": {
        "id": "k1yaPBsVuvEj"
      }
    },
    {
      "cell_type": "code",
      "source": [],
      "metadata": {
        "id": "ckQEn0y9vJyN"
      },
      "execution_count": null,
      "outputs": []
    },
    {
      "cell_type": "code",
      "source": [],
      "metadata": {
        "id": "jRTPyI_qvJvq"
      },
      "execution_count": null,
      "outputs": []
    },
    {
      "cell_type": "code",
      "source": [
        "import math\n",
        "def valueOf(perm,com):\n",
        "\t#perm -> Permutation of arrangement of r objects from a set of n objects\n",
        "\t#com -> Selection of r objects from a set of n objects\n",
        "\n",
        "    # return the value of r\n",
        "\t\n",
        "\t# code starts here\n",
        "  r_factorial = int(perm/com)\n",
        "\n",
        "  r = -1\n",
        "\n",
        "  for i in range(1,r_factorial+1):\n",
        "\n",
        "    if(math.factorial(i) == r_factorial):\n",
        "\n",
        "        r=i\n",
        "\n",
        "        break\n",
        "\n",
        "    return r"
      ],
      "metadata": {
        "id": "tS0Icxn5u020"
      },
      "execution_count": 14,
      "outputs": []
    },
    {
      "cell_type": "code",
      "source": [],
      "metadata": {
        "id": "rHmoWp07vK1A"
      },
      "execution_count": null,
      "outputs": []
    },
    {
      "cell_type": "markdown",
      "source": [
        "# lexicographical selection sort\n",
        "Given a list of strings, use selection sort to sort these strings in lexicographical order.\n",
        "\n",
        "```\n",
        "\n",
        "\n",
        "Input Format:\n",
        "\n",
        "space-separated strings \n",
        "Output Format:\n",
        "\n",
        "list of strings \n",
        "Sample Input:\n",
        "\n",
        "['alpha', 'gamma', 'beta', 'delta'] \n",
        "Sample Output:\n",
        "\n",
        "['alpha', 'beta', 'delta', 'gamma']\n",
        "Sample explanation:\n",
        "\n",
        "alpha is lexicographically smallest as it starts with 'a' and gamma is lexicographically largest as its initial character is 'g'.\n",
        "```\n",
        "\n"
      ],
      "metadata": {
        "id": "vHv8H6BRrYTK"
      }
    },
    {
      "cell_type": "code",
      "source": [
        "'alpha'>'gamma'"
      ],
      "metadata": {
        "colab": {
          "base_uri": "https://localhost:8080/"
        },
        "id": "-xvnPP_1O6A9",
        "outputId": "b950a109-e746-4170-f490-f5493ceb64d8"
      },
      "execution_count": 18,
      "outputs": [
        {
          "output_type": "execute_result",
          "data": {
            "text/plain": [
              "False"
            ]
          },
          "metadata": {},
          "execution_count": 18
        }
      ]
    },
    {
      "cell_type": "code",
      "source": [
        "'gamma'>'beta'"
      ],
      "metadata": {
        "colab": {
          "base_uri": "https://localhost:8080/"
        },
        "id": "R56EaSu_PjXT",
        "outputId": "c086350d-e280-4136-a9ab-edc45d3dd780"
      },
      "execution_count": 19,
      "outputs": [
        {
          "output_type": "execute_result",
          "data": {
            "text/plain": [
              "True"
            ]
          },
          "metadata": {},
          "execution_count": 19
        }
      ]
    },
    {
      "cell_type": "code",
      "execution_count": null,
      "metadata": {
        "id": "zhbA67zJrVp-"
      },
      "outputs": [],
      "source": [
        "def selectionSort(lis):\n",
        "\n",
        "    #YOUR CODE GOES HERE\n",
        "    for i in range(len(lis)):\n",
        "        min_index = i\n",
        "        min_str = lis[i]\n",
        "        for j in range(i+1,len(lis)):\n",
        "            if min_str>lis[j]:\n",
        "                min_str = lis[j]\n",
        "                min_index = j\n",
        "        \n",
        "        lis[i],lis[min_index] = lis[min_index],lis[i]\n",
        "      \n",
        "   \n",
        "\n",
        "    return lis"
      ]
    }
  ]
}
